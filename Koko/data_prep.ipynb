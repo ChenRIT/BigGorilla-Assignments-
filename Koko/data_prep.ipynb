{
 "cells": [
  {
   "cell_type": "markdown",
   "metadata": {},
   "source": [
    "# Introduction"
   ]
  },
  {
   "cell_type": "markdown",
   "metadata": {},
   "source": [
    "Four parts for each component:\n",
    "1. Introduction\n",
    "2. Example\n",
    "3. Graded assignment\n",
    "\n",
    "How many components?\n",
    "1. Data extraction: web scraping\n",
    "2. Data cleaning: python\n",
    "4. Entity recognition: json output of Koko results\n",
    "5. Data transformation: from json to dataframe\n",
    "\n",
    "Difficulty level:\n",
    "1. From trivial to non-trivial tasks -- this's a graduate course."
   ]
  },
  {
   "cell_type": "markdown",
   "metadata": {},
   "source": [
    "# 1. Data extraction"
   ]
  },
  {
   "cell_type": "markdown",
   "metadata": {},
   "source": [
    "Task: extract texts of aviation incidents from websites  \n",
    "Tools: BeautifulSoup, scrapy  \n",
    "Grading metrics: autograder finds a given set of sentences in the txt file uploaded."
   ]
  },
  {
   "cell_type": "markdown",
   "metadata": {},
   "source": [
    "# 2. Data cleaning"
   ]
  },
  {
   "cell_type": "markdown",
   "metadata": {},
   "source": [
    "Task: Clean the extracted text file to move years into each line.  \n",
    "Tools: Python  \n",
    "Grading metrics: autograder would check the format of each line."
   ]
  },
  {
   "cell_type": "markdown",
   "metadata": {},
   "source": [
    "# 3. Entity recognition"
   ]
  },
  {
   "cell_type": "markdown",
   "metadata": {},
   "source": [
    "Task: extract airlines and aircraft types  \n",
    "Tools: Koko  \n",
    "Grading metrics: autograder would examine the json output files"
   ]
  },
  {
   "cell_type": "markdown",
   "metadata": {},
   "source": [
    "# 4. Data transformation"
   ]
  },
  {
   "cell_type": "markdown",
   "metadata": {},
   "source": [
    "Task: transform Koko's json output to dataframe  \n",
    "Tools: Python (read_json)  \n",
    "Grading metrics: autograder would load the dataframe and do some checking, e.g., shape.  \n",
    "Comments: is this part too simple?"
   ]
  },
  {
   "cell_type": "code",
   "execution_count": null,
   "metadata": {},
   "outputs": [],
   "source": []
  }
 ],
 "metadata": {
  "kernelspec": {
   "display_name": "Python 3",
   "language": "python",
   "name": "python3"
  },
  "language_info": {
   "codemirror_mode": {
    "name": "ipython",
    "version": 3
   },
   "file_extension": ".py",
   "mimetype": "text/x-python",
   "name": "python",
   "nbconvert_exporter": "python",
   "pygments_lexer": "ipython3",
   "version": "3.6.2"
  }
 },
 "nbformat": 4,
 "nbformat_minor": 2
}
