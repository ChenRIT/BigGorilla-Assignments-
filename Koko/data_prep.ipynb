{
 "cells": [
  {
   "cell_type": "markdown",
   "metadata": {},
   "source": [
    "# Introduction"
   ]
  },
  {
   "cell_type": "markdown",
   "metadata": {},
   "source": [
    "The aviation field is concerned with safety of airplanes and is doing their best to understand the reason for any potential incidents.  \n",
    "In this mini-tutorial, suppose you are invited by the aviation authority to analyze all the history aviation incidents.  \n",
    "Hopefully the results could help reveal potential problems, build more robust aircraft, and impose more effective regulation.  \n",
    "\n",
    "In the meanwhile, you will learn a variety of data analytical tools, mostly Python-based, by applying them to real data extracted from the Web.\n",
    "\n",
    "** This mini-tutorial is composed of three parts: **\n",
    "1. Data extraction: scrape the website about aviation incidents.\n",
    "2. Data cleaning: clean the extracted data by removing irrelevant information.\n",
    "4. Entity recognition: use an entity extraction tool Koko, to extract entities from scraped data.\n",
    "5. Data transformation: convert the unstructured text data into dataframes."
   ]
  },
  {
   "cell_type": "markdown",
   "metadata": {},
   "source": [
    "# 1. Data acquisition"
   ]
  },
  {
   "cell_type": "markdown",
   "metadata": {},
   "source": [
    "To acquire data, we first need to scrape the text data about aviation incidents from the following Wiki page:  \n",
    "https://en.wikipedia.org/wiki/List_of_accidents_and_incidents_involving_commercial_aircraft"
   ]
  },
  {
   "cell_type": "markdown",
   "metadata": {},
   "source": [
    "A number of Python-based tools can be used to scrape the Web, such as [BeautifulSoup](https://www.crummy.com/software/BeautifulSoup/) or [Scrapy](https://scrapy.org/).  \n",
    "Here we use BeautifulSoup for our purpose.  \n",
    "Suppose we already save the Wiki website as an HTML file. The following code create parse the html file and generate a BeautifulSoup object."
   ]
  },
  {
   "cell_type": "code",
   "execution_count": 1,
   "metadata": {},
   "outputs": [
    {
     "data": {
      "text/plain": [
       "'List of accidents and incidents involving commercial aircraft - Wikipedia'"
      ]
     },
     "execution_count": 1,
     "metadata": {},
     "output_type": "execute_result"
    }
   ],
   "source": [
    "from bs4 import BeautifulSoup\n",
    "\n",
    "input_html = \"./data/aircraft_incidents.htm\"\n",
    "with open(input_html, \"r\") as ifile:\n",
    "    soup = BeautifulSoup(ifile, 'lxml')\n",
    "    \n",
    "soup.title.string"
   ]
  },
  {
   "cell_type": "markdown",
   "metadata": {},
   "source": [
    "**Task:** Use BeautifulSoup to scrape the Wiki website at https://en.wikipedia.org/wiki/List_of_accidents_and_incidents_involving_commercial_aircraft, and generate a text file containing all the text on the website. The generated file should not contain any html tag."
   ]
  },
  {
   "cell_type": "code",
   "execution_count": 2,
   "metadata": {},
   "outputs": [],
   "source": [
    "output_fname = \"./data/aviation_incidents_raw_texts.txt\"\n",
    "\n",
    "# Write your code here. Store the output text in output_fname#"
   ]
  },
  {
   "cell_type": "markdown",
   "metadata": {},
   "source": [
    "The following code will check if the generated text file satisfy the requirement."
   ]
  },
  {
   "cell_type": "code",
   "execution_count": 3,
   "metadata": {},
   "outputs": [
    {
     "name": "stdout",
     "output_type": "stream",
     "text": [
      "No tag found!\n"
     ]
    }
   ],
   "source": [
    "import re\n",
    "\n",
    "with open(output_fname, \"r\") as ifile:\n",
    "    # Check if all tags have been removed\n",
    "    doc = ifile.read()\n",
    "    result = re.search(r\"<.*>\", doc)\n",
    "    if result:\n",
    "        print(\"Error: \\n{}\".format(result.string))\n",
    "    else:\n",
    "        print(\"No tag found!\")"
   ]
  },
  {
   "cell_type": "markdown",
   "metadata": {},
   "source": [
    "# 2. Data Cleaning"
   ]
  },
  {
   "cell_type": "markdown",
   "metadata": {},
   "source": [
    "You may notice that the extracted data is not very organized.  \n",
    "Our next step is to clean the extracted data, so that it can be used for further analysis.\n",
    "\n",
    "Here's a sample of how a cleaned version should look like:"
   ]
  },
  {
   "cell_type": "code",
   "execution_count": 4,
   "metadata": {},
   "outputs": [
    {
     "name": "stdout",
     "output_type": "stream",
     "text": [
      "July 21, 1919, The Goodyear dirigible Wingfoot Air Express catches fire and crashes into the Illinois Trust and Savings Building in Chicago, Illinois, while carrying passengers to a local amusement park, killing thirteen people: three out of the five on board and ten others on the ground, with 27 others on the ground being injured.\n",
      "\n",
      "August 2, 1919, A Caproni Ca.48 crashes at Verona, Italy, during a flight from Venice to Taliedo, Milan, killing all on board (14, 15, or 17 people, according to different sources).\n",
      "\n",
      "December 14, 1920, A Handley Page Transport Handley Page O/400 hits a tree and crashes at Golders Green, London, after failing to gain height following takeoff, killing four out of eight on board.\n",
      "\n",
      "April 7, 1922, In the first mid-air collision of airliners, a de Havilland DH.18A, G-EAWO, operated by Daimler Hire Ltd., collides with a Farman F.60 Goliath, F-GEAD, operated by Compagnie des Grands Express Aériens (CGEA), over the Thieulloy-St. Antoine road near Picardie, France, killing all seven people on both aircraft.\n",
      "\n",
      "May 14, 1923, An Air Union Farman F.60 Goliath crashes near Monsures, Somme, France, due to the structural failure of a wing, killing all six on board.\n",
      "\n"
     ]
    }
   ],
   "source": [
    "with open('./data/aviation_incidents_cleaned.txt') as ifile:\n",
    "    for i in range(5):\n",
    "        print(ifile.readline())"
   ]
  },
  {
   "cell_type": "markdown",
   "metadata": {},
   "source": [
    "There are a variety of ways to clean the documents. Here we give one example.  \n",
    "\n",
    "* Extract the data that are related to aviation incidents.\n",
    "* Clean the extracted data segment, by embedding the year information into each incident and removing em dashes that could cause trouble in follow-up analysis."
   ]
  },
  {
   "cell_type": "markdown",
   "metadata": {},
   "source": [
    "## Extract incident-related texts"
   ]
  },
  {
   "cell_type": "code",
   "execution_count": 5,
   "metadata": {},
   "outputs": [],
   "source": [
    "with open('./data/aviation_incidents_raw_texts.txt') as ifile:\n",
    "    with open('./data/aviation_incidents_select.txt', 'w+') as ofile:\n",
    "        to_record = False\n",
    "        for line in ifile:\n",
    "            cleaned_line = line.rstrip()\n",
    "            if not cleaned_line:\n",
    "                continue\n",
    "            \n",
    "            if 'References' in line:\n",
    "                break\n",
    "                \n",
    "            if 'See also' in line:\n",
    "                to_record = True\n",
    "                continue\n",
    "        \n",
    "            if to_record == True:\n",
    "                ofile.write(line)        "
   ]
  },
  {
   "cell_type": "markdown",
   "metadata": {},
   "source": [
    "Let's take a glimpse of the output file."
   ]
  },
  {
   "cell_type": "code",
   "execution_count": 6,
   "metadata": {},
   "outputs": [
    {
     "data": {
      "text/plain": [
       "['1910s and 1920s[edit]\\n',\n",
       " '1919[edit]\\n',\n",
       " 'July 21 – The Goodyear dirigible Wingfoot Air Express catches fire and crashes into the Illinois Trust and Savings Building in Chicago, Illinois, while carrying passengers to a local amusement park, killing thirteen people: three out of the five on board and ten others on the ground, with 27 others on the ground being injured.\\n',\n",
       " 'August 2 – A Caproni Ca.48 crashes at Verona, Italy, during a flight from Venice to Taliedo, Milan, killing all on board (14, 15, or 17 people, according to different sources).\\n',\n",
       " '1920[edit]\\n',\n",
       " 'December 14 – A Handley Page Transport Handley Page O/400 hits a tree and crashes at Golders Green, London, after failing to gain height following takeoff, killing four out of eight on board.\\n',\n",
       " '1922[edit]\\n',\n",
       " 'April 7 – In the first mid-air collision of airliners, a de Havilland DH.18A, G-EAWO, operated by Daimler Hire Ltd., collides with a Farman F.60 Goliath, F-GEAD, operated by Compagnie des Grands Express Aériens (CGEA), over the Thieulloy-St. Antoine road near Picardie, France, killing all seven people on both aircraft.\\n',\n",
       " '1923[edit]\\n',\n",
       " 'May 14 – An Air Union Farman F.60 Goliath crashes near Monsures, Somme, France, due to the structural failure of a wing, killing all six on board.\\n']"
      ]
     },
     "execution_count": 6,
     "metadata": {},
     "output_type": "execute_result"
    }
   ],
   "source": [
    "with open('./data/aviation_incidents_select.txt') as myfile:\n",
    "    head = [next(myfile) for x in range(10)]\n",
    "head"
   ]
  },
  {
   "cell_type": "markdown",
   "metadata": {},
   "source": [
    "## Clean the extracted segment"
   ]
  },
  {
   "cell_type": "markdown",
   "metadata": {},
   "source": [
    "Right now the year information is listed independently at the beginning of a series of incidents.  \n",
    "Let's embedd each year into the follow-up incidents, to make each incident more informative.\n",
    "\n",
    "For example, if we have:  \n",
    "* \"1920\\[edit\\]:  \n",
    "December 14 – A Handley Page Transport Handley Page O/400 hits a tree and crashes at Golders Green, London, after failing to gain height following takeoff, killing four out of eight on board.\" *\n",
    "\n",
    "We will remove \"1920\\[edit\\]:\", and add \"1920\" as part of the incident, to have:\n",
    "\n",
    "* \"On December 14, 1920 – A Handley Page Transport Handley Page O/400 hits a tree and crashes at Golders Green, London, after failing to gain height following takeoff, killing four out of eight on board.\"  *"
   ]
  },
  {
   "cell_type": "code",
   "execution_count": 7,
   "metadata": {},
   "outputs": [],
   "source": [
    "def represent_int(s):\n",
    "    try:\n",
    "        int(s)\n",
    "        return True\n",
    "    except ValueError:\n",
    "        return False\n",
    "\n",
    "with open('./data/aviation_incidents_select.txt' ) as ifile:\n",
    "     with open('./data/aviation_incidents_cleaned.txt', 'w') as ofile:\n",
    "        year = 0\n",
    "        for line in ifile:\n",
    "            cleaned_line = line.replace('[edit]', '')\n",
    "            proc_line = cleaned_line.rstrip()\n",
    "            if represent_int(proc_line):\n",
    "                # The line represents a year\n",
    "                year = int(proc_line)\n",
    "                continue\n",
    "            else:\n",
    "                months = ['January', 'February', 'March', 'April', 'May', 'June', 'July', \n",
    "                          'August', 'September', 'October', 'November', 'December']\n",
    "                month_pattern = '|'.join(months)\n",
    "                if re.search(month_pattern, proc_line):\n",
    "                    match_obj = re.search(r\"[0-9]\\s.\\s\", proc_line)\n",
    "                    if match_obj:\n",
    "                        replace_text = \", \" + str(year) + \", \"\n",
    "                        newline = proc_line.replace(match_obj.group()[1:], replace_text)\n",
    "                        ofile.write(newline+'\\n')"
   ]
  },
  {
   "cell_type": "markdown",
   "metadata": {},
   "source": [
    "Let's take a look at the results."
   ]
  },
  {
   "cell_type": "code",
   "execution_count": 8,
   "metadata": {},
   "outputs": [
    {
     "data": {
      "text/plain": [
       "['July 21, 1919, The Goodyear dirigible Wingfoot Air Express catches fire and crashes into the Illinois Trust and Savings Building in Chicago, Illinois, while carrying passengers to a local amusement park, killing thirteen people: three out of the five on board and ten others on the ground, with 27 others on the ground being injured.\\n',\n",
       " 'August 2, 1919, A Caproni Ca.48 crashes at Verona, Italy, during a flight from Venice to Taliedo, Milan, killing all on board (14, 15, or 17 people, according to different sources).\\n',\n",
       " 'December 14, 1920, A Handley Page Transport Handley Page O/400 hits a tree and crashes at Golders Green, London, after failing to gain height following takeoff, killing four out of eight on board.\\n',\n",
       " 'April 7, 1922, In the first mid-air collision of airliners, a de Havilland DH.18A, G-EAWO, operated by Daimler Hire Ltd., collides with a Farman F.60 Goliath, F-GEAD, operated by Compagnie des Grands Express Aériens (CGEA), over the Thieulloy-St. Antoine road near Picardie, France, killing all seven people on both aircraft.\\n',\n",
       " 'May 14, 1923, An Air Union Farman F.60 Goliath crashes near Monsures, Somme, France, due to the structural failure of a wing, killing all six on board.\\n']"
      ]
     },
     "execution_count": 8,
     "metadata": {},
     "output_type": "execute_result"
    }
   ],
   "source": [
    "with open('./data/aviation_incidents_cleaned.txt') as myfile:\n",
    "    head = [next(myfile) for x in range(5)]\n",
    "head"
   ]
  },
  {
   "cell_type": "markdown",
   "metadata": {},
   "source": [
    "# 3. Entity recognition"
   ]
  },
  {
   "cell_type": "markdown",
   "metadata": {},
   "source": [
    "Now we are ready to extract interesting and useful information from the cleaned corpus.  \n",
    "\n",
    "We first create a word cloud as warm-up exercise, and get a general sense of the distribution of words in the corpus.  \n",
    "Then we will use Koko, an entity extraction tool, to extract airlines and aircrafts from the corpus."
   ]
  },
  {
   "cell_type": "markdown",
   "metadata": {},
   "source": [
    "## Word Cloud"
   ]
  },
  {
   "cell_type": "markdown",
   "metadata": {},
   "source": [
    "The following code generates a wordcloud out of the cleaned corpus.  \n",
    "\n",
    "Note that we remove common aviation-related words, such as airlines or flight, as they are less informative."
   ]
  },
  {
   "cell_type": "code",
   "execution_count": 9,
   "metadata": {},
   "outputs": [
    {
     "data": {
      "text/plain": [
       "(-0.5, 3599.5, 2699.5, -0.5)"
      ]
     },
     "execution_count": 9,
     "metadata": {},
     "output_type": "execute_result"
    }
   ],
   "source": [
    "import matplotlib.pyplot as plt\n",
    "from wordcloud import WordCloud, ImageColorGenerator\n",
    "\n",
    "LIMIT_WORDS = ['airlines flight', 'flight', 'people', 'board', 'international airport', \n",
    "               'passenger', 'crew', 'airport', 'aircraft', 'near', 'crash', 'killed']\n",
    "\n",
    "with open('./data/aviation_incidents_cleaned.txt') as myfile:\n",
    "    doc = myfile.read()\n",
    "text = doc.lower()\n",
    "for w in LIMIT_WORDS:\n",
    "    text = text.replace(' ' + w, '')\n",
    "    text = text.replace(w + ' ', '')\n",
    "wordcloud = WordCloud(background_color=\"white\", font_path='../../../Library/Fonts/Arial.ttf', \\\n",
    "                          height=2700, width=3600).generate(text)\n",
    "plt.figure( figsize=(14,8) )\n",
    "plt.imshow(wordcloud.recolor(colormap=plt.get_cmap('Set2')), interpolation='bilinear')\n",
    "plt.axis(\"off\")"
   ]
  },
  {
   "cell_type": "markdown",
   "metadata": {},
   "source": [
    "What conclusion can you get from the wordcloud?"
   ]
  },
  {
   "cell_type": "markdown",
   "metadata": {},
   "source": [
    "## Named Entity Extration"
   ]
  },
  {
   "cell_type": "markdown",
   "metadata": {},
   "source": [
    "Now suppose we are interested in knowing which airline company has the most incidents.  \n",
    "How can we get the information from the corpus?  \n",
    "\n",
    "There are a number of Python-based tools that can extract entities like airline names from text, such as [NLTK](http://www.nltk.org/), [spaCy](https://spacy.io/), [Google NLP](https://cloud.google.com/natural-language/).  \n",
    "Though these tools are powerful, they do not provide declarative APIs that allow users to extract entities with customed conditions.  \n",
    "Here we will introduce an entity extraction framework called Koko, which allows the user to specify properties of the extracted entities in a declarative way, and is especially suitable for extracting entities with little evidence in the corpus."
   ]
  },
  {
   "cell_type": "code",
   "execution_count": 10,
   "metadata": {},
   "outputs": [
    {
     "name": "stdout",
     "output_type": "stream",
     "text": [
      "extract \"Ents\" x from \"/Users/chen/Research/Code/BigGorilla-assignments/Koko/data/aviation_incidents_cleaned.txt\" if\n",
      "\t(str(x) contains \"Airlines\" {0.1}) or\n",
      "\t(str(x) contains \"Air\" {0.1})\n",
      "with threshold 0.0\n",
      "\n"
     ]
    }
   ],
   "source": [
    "with open('./koko_queries/airlines_v2.koko', 'r') as file:\n",
    "    print(file.read())"
   ]
  },
  {
   "cell_type": "markdown",
   "metadata": {},
   "source": [
    "This query tells Koko to extract entities 'x' from our cleaned aviation data if \"x\" contains either \"Airlines\" or \"Air\".\n",
    "\n",
    "The weight in each \"if\" condition (e.g., {0.1} for (str(x) contains \"Airlines\")) represents the importance of the pattern specified in the condition.\n",
    "Any appearance of an entity in the data that matches the pattern is considered a piece of evidence.\n",
    "And each such piece of evidence would increment the entity's score by the condition's weight.\n",
    "\n",
    "For example, if there's an incident \"An Air France flight encountered an emergency situation\", this incident is considered as evidence for \"Air France\" based on the second condition, and 0.1 is added to \"Air France\"'s score.\n",
    "In Koko, the score of an entity is at most 1.\n",
    "\n",
    "Finally, we can specify a threshold in Koko queries.\n",
    "Only entities scoring higher than the thresold would be returned in the results.\n",
    "For simplicity, we now put zero as thresold here, which shows all entities that have at least one piece of evidence in the data.\n",
    "\n",
    "You can find more details about Koko[here](http://pykoko.readthedocs.io/en/latest/).\n",
    "\n",
    "Let's run the Koko query now to see the results.\n",
    "\n",
    "Here I use spaCy as the nlp processor for happy moments. Koko could leverage spaCy's APIs for entity extraction.\n",
    "The extracted entities could be further matched against the conditions in the Koko query to get scored, ranked and filtered.\n",
    "\n",
    "SpaCy is not the only option. We can also use Koko's default parser or Google NLP API as well."
   ]
  },
  {
   "cell_type": "code",
   "execution_count": 11,
   "metadata": {},
   "outputs": [
    {
     "name": "stdout",
     "output_type": "stream",
     "text": [
      "Parsed query: extract \"/Users/chen/Research/Code/BigGorilla-assignments/Koko/data/aviation_incidents_cleaned.txt\" Ents from \"x\" if\n",
      "\t(str(x) contains \"Airlines\" { 0.10 }) or\n",
      "\t(str(x) contains \"Air\" { 0.10 })   \n",
      "with threshold 0.00\n",
      "\n",
      "\n",
      "Results:\n",
      "\n",
      "Entity name                    Entity count         Entity score\n",
      "======================================================================\n",
      "United Airlines                27                   1.000000\n",
      "American Airlines              25                   1.000000\n",
      "Northwest Airlines             11                   1.000000\n",
      "Eastern Air Lines              16                   1.000000\n",
      "Air France                     15                   1.000000\n",
      "Japan Airlines                 11                   1.000000\n",
      "China Airlines                 11                   1.000000\n",
      "National Airlines              7                    0.700000\n",
      "Northwest Orient Airlines      7                    0.700000\n",
      "Philippine Airlines            7                    0.700000\n",
      "Indian Airlines                7                    0.700000\n",
      "Merpati Nusantara Airlines     6                    0.600000\n",
      "Continental Airlines           5                    0.500000\n",
      "Pakistan International Airlines 5                    0.500000\n",
      "Air Canada                     5                    0.500000\n",
      "Delta Air Lines                5                    0.500000\n",
      "Southwest Airlines             5                    0.500000\n",
      "United Arab Airlines           4                    0.400000\n",
      "Allegheny Airlines             4                    0.400000\n",
      "Asiana Airlines                4                    0.400000\n",
      "An Air Union                   3                    0.300000\n",
      "Pennsylvania Central Airlines  3                    0.300000\n",
      "Canadian Pacific Air Lines     3                    0.300000\n",
      "Trans-Canada Air Lines         3                    0.300000\n",
      "Northeast Airlines             3                    0.300000\n",
      "Capital Airlines               3                    0.300000\n",
      "Ariana Afghan Airlines         3                    0.300000\n",
      "Air France Flight              3                    0.300000\n",
      "Mohawk Airlines                3                    0.300000\n",
      "Iberia Airlines                3                    0.300000\n",
      "North Central Airlines         3                    0.300000\n",
      "Korean Air Flight              3                    0.300000\n",
      "China Southwest Airlines       3                    0.300000\n",
      "Southern Airlines              3                    0.300000\n",
      "Singapore Airlines             3                    0.300000\n",
      "China Eastern Airlines         3                    0.300000\n",
      "An Air Union Blériot           2                    0.200000\n",
      "Norwegian Air Lines            2                    0.200000\n",
      "Scandinavian Airlines System   2                    0.200000\n",
      "MacRobertson Miller Airlines   2                    0.200000\n",
      "Air India Flight 245           2                    0.200000\n",
      "Piedmont Airlines              2                    0.200000\n",
      "Ethiopian Airlines             2                    0.200000\n",
      "Middle East Airlines           2                    0.200000\n",
      "Alaska Airlines                2                    0.200000\n",
      "Libyan Arab Airlines           2                    0.200000\n",
      "Ozark Air Lines                2                    0.200000\n",
      "Western Airlines               2                    0.200000\n",
      "Pacific Western Airlines       2                    0.200000\n",
      "Korean Air Lines               2                    0.200000\n",
      "Air Rhodesia Flight            2                    0.200000\n",
      "Air Force                      2                    0.200000\n",
      "Cameroon Airlines              2                    0.200000\n",
      "Skywest Airlines               2                    0.200000\n",
      "Mandala Airlines               2                    0.200000\n",
      "China Northern Airlines        2                    0.200000\n",
      "Air Algérie Flight             2                    0.200000\n",
      "Azerbaijan Airlines            2                    0.200000\n",
      "ADC Airlines                   2                    0.200000\n",
      "UPS Airlines                   2                    0.200000\n",
      "Nepal Airlines                 2                    0.200000\n",
      "Malaysia Airlines              2                    0.200000\n",
      "Air Kasthamandap               2                    0.200000\n",
      "Silk Way Airlines              2                    0.200000\n",
      "Wingfoot Air Express           1                    0.100000\n",
      "A Transcontinental & Western Air Fokker 1                    0.100000\n",
      "The United Airlines            1                    0.100000\n",
      "An Air France Wibault          1                    0.100000\n",
      "Western Air Express            1                    0.100000\n",
      "Naval Air Engineering Station  1                    0.100000\n",
      "U.S. Army Air Corps            1                    0.100000\n",
      "An American Overseas Airlines  1                    0.100000\n",
      "Air                            1                    0.100000\n",
      "Air Force Yakovlev             1                    0.100000\n",
      "Air France Latécoère           1                    0.100000\n",
      "Queensland Airlines            1                    0.100000\n",
      "Italian Airlines               1                    0.100000\n",
      "Standard Air Lines Flight      1                    0.100000\n",
      "An Air France Lockheed Constellation 1                    0.100000\n",
      "Air India Flight               1                    0.100000\n",
      "A Canadian Pacific Air Lines Douglas 1                    0.100000\n",
      "Miami Airlines                 1                    0.100000\n",
      "An Air France SNCASE Languedoc 1                    0.100000\n",
      "Transocean Air Lines Flight 512 1                    0.100000\n",
      "United Airlines Douglas        1                    0.100000\n",
      "An Air India Lockheed L-749 Constellation 1                    0.100000\n",
      "Scottish Airlines              1                    0.100000\n",
      "US Air Force                   1                    0.100000\n",
      "Dan-Air                        1                    0.100000\n",
      "An Independent Air Travel Vickers 1                    0.100000\n",
      "Italian Air Force              1                    0.100000\n",
      "Southeast Airlines             1                    0.100000\n",
      "Turkish Airlines Gatwick       1                    0.100000\n",
      "Air Charter                    1                    0.100000\n",
      "Trans Australia Airlines       1                    0.100000\n",
      "Austrian Airlines              1                    0.100000\n",
      "Airlines Douglas               1                    0.100000\n",
      "Imperial Airlines              1                    0.100000\n",
      "Turkish Air Force              1                    0.100000\n",
      "Eagle International Airlines   1                    0.100000\n",
      "Pacific Air Lines              1                    0.100000\n",
      "Civil Air Transport Flight     1                    0.100000\n",
      "Bonanza Air Lines              1                    0.100000\n",
      "Air India Flight 101           1                    0.100000\n",
      "Canadian Pacific Air Lines Flight 402 1                    0.100000\n",
      "West Coast Airlines            1                    0.100000\n",
      "Varig Airlines Flight 837      1                    0.100000\n",
      "Globe Air-                     1                    0.100000\n",
      "Mohawk Airlines Flight 40      1                    0.100000\n",
      "Seaboard World Airlines        1                    0.100000\n",
      "BKS Air Transport Heathrow     1                    0.100000\n",
      "Air France Flight 1611         1                    0.100000\n",
      "Wien Consolidated Airlines     1                    0.100000\n",
      "Hawthorne Nevada Airlines      1                    0.100000\n",
      "Far Eastern Air Transport Flight 104 1                    0.100000\n",
      "Air Force Antonov An-12        1                    0.100000\n",
      "Dan-Air de Havilland Comet     1                    0.100000\n",
      "Toa Domestic Airlines          1                    0.100000\n",
      "Air Wisconsin Flight           1                    0.100000\n",
      "Uruguayan Air Force            1                    0.100000\n",
      "Ansett Airlines                1                    0.100000\n",
      "Delta Airlines                 1                    0.100000\n",
      "Châteaubernard Air Base        1                    0.100000\n",
      "Invicta International Airlines 1                    0.100000\n",
      "Japan Air Lines                1                    0.100000\n",
      "Texas International Airlines   1                    0.100000\n",
      "Air Vietnam Flight             1                    0.100000\n",
      "Golden West Airlines           1                    0.100000\n",
      "Air Maroc                      1                    0.100000\n",
      "Royal Jordanian Airlines       1                    0.100000\n",
      "Wien Air                       1                    0.100000\n",
      "Air Manila Flight              1                    0.100000\n",
      "Czechoslovakia Airlines        1                    0.100000\n",
      "Dan-Air Boeing                 1                    0.100000\n",
      "Arab Airlines                  1                    0.100000\n",
      "Air India Flight 855           1                    0.100000\n",
      "Icelandic Airlines             1                    0.100000\n",
      "Air New England                1                    0.100000\n",
      "Dan-Air Flight 0034            1                    0.100000\n",
      "Air New Zealand                1                    0.100000\n",
      "Iran Air Flight 291            1                    0.100000\n",
      "Advance Airlines               1                    0.100000\n",
      "Dan-Air Flight                 1                    0.100000\n",
      "Florida Commuter Airlines      1                    0.100000\n",
      "Dan-Air Flight 240             1                    0.100000\n",
      "Somali Airlines                1                    0.100000\n",
      "Far Eastern Air Transport Flight 103 1                    0.100000\n",
      "Air Florida Flight 90          1                    0.100000\n",
      "Air India Flight 403           1                    0.100000\n",
      "Air Canada Flight              1                    0.100000\n",
      "Gulf Air Flight                1                    0.100000\n",
      "Air Illinois Flight            1                    0.100000\n",
      "TAAG Angola Airlines Boeing    1                    0.100000\n",
      "Biman Bangladesh Airlines      1                    0.100000\n",
      "Galaxy Airlines                1                    0.100000\n",
      "Air Force Antonov An-26        1                    0.100000\n",
      "Air India Flight 182           1                    0.100000\n",
      "Bar Harbor Airlines            1                    0.100000\n",
      "Bakhtar Afghan Airlines        1                    0.100000\n",
      "Midwest Express Airlines       1                    0.100000\n",
      "Arrow Air Flight 1285          1                    0.100000\n",
      "Yakutsk United Air Group       1                    0.100000\n",
      "Air Lanka Flight 512           1                    0.100000\n",
      "Grand Canyon Airlines          1                    0.100000\n",
      "Pacific Southwest Airlines     1                    0.100000\n",
      "Aloha Airlines                 1                    0.100000\n",
      "Iran Air Flight 655            1                    0.100000\n",
      "Vietnam Airlines               1                    0.100000\n",
      "Uganda Airlines                1                    0.100000\n",
      "Independent Air Flight 1851    1                    0.100000\n",
      "Air Ontario                    1                    0.100000\n",
      "Korean Air Flight 803          1                    0.100000\n",
      "Xiamen Airlines                1                    0.100000\n",
      "Lauda Air Flight 004           1                    0.100000\n",
      "L'Express Airlines             1                    0.100000\n",
      "Air Inter                      1                    0.100000\n",
      "Copa Airlines                  1                    0.100000\n",
      "Libyan Air Force               1                    0.100000\n",
      "Iran Air Tours                 1                    0.100000\n",
      "Palair Macedonian Airlines     1                    0.100000\n",
      "Shemya Air Force Base          1                    0.100000\n",
      "Japan Air System               1                    0.100000\n",
      "China Northwest Airlines       1                    0.100000\n",
      "A Tajik Air Yakovlev Yak-40    1                    0.100000\n",
      "Baikal Airlines                1                    0.100000\n",
      "Royal Air Maroc Flight 630     1                    0.100000\n",
      "Vanavara Air Disaster          1                    0.100000\n",
      "Cheremshanka Airlines          1                    0.100000\n",
      "Air St. Martin Beech 1900      1                    0.100000\n",
      "Banat Air Flight 166           1                    0.100000\n",
      "Air Africa                     1                    0.100000\n",
      "Eastwind Airlines              1                    0.100000\n",
      "Spair Airlines                 1                    0.100000\n",
      "Vnukovo Airlines               1                    0.100000\n",
      "Saudi Arabian Airlines         1                    0.100000\n",
      "Air Kazakhstan Flight          1                    0.100000\n",
      "Beechcraft King Air            1                    0.100000\n",
      "Ethiopian Airlines Flight 961  1                    0.100000\n",
      "Sempati Air Flight 304         1                    0.100000\n",
      "Formosa Airlines               1                    0.100000\n",
      "Vietnam Airlines Flight 815    1                    0.100000\n",
      "Royal Brunei Airlines          1                    0.100000\n",
      "Tajikistan Airlines            1                    0.100000\n",
      "TAME Airlines                  1                    0.100000\n",
      "Peruvian Air Force             1                    0.100000\n",
      "MIAT Mongolian Airlines        1                    0.100000\n",
      "Proteus Airlines               1                    0.100000\n",
      "Air Cargo Flight               1                    0.100000\n",
      "Air Philippines                1                    0.100000\n",
      "Wuhan Airlines                 1                    0.100000\n",
      "Alliance Air Flight 7412       1                    0.100000\n",
      "Gulf Air Flight 072            1                    0.100000\n",
      "Dirgantara Air Service         1                    0.100000\n",
      "Vladivostok Air Flight         1                    0.100000\n",
      "Air Transat Flight 236         1                    0.100000\n",
      "Siberia Airlines Flight 1812   1                    0.100000\n",
      "Lion Air Flight 386            1                    0.100000\n",
      "Iran Air Tours Flight 956      1                    0.100000\n",
      "Air China                      1                    0.100000\n",
      "EAS Airlines                   1                    0.100000\n",
      "Prestige Airlines              1                    0.100000\n",
      "Laoag International Airlines   1                    0.100000\n",
      "Air Midwest Flight 5481        1                    0.100000\n",
      "UM Airlines                    1                    0.100000\n",
      "Flash Airlines                 1                    0.100000\n",
      "Kish Air Flight 7170           1                    0.100000\n",
      "Air Tahoma Flight 185          1                    0.100000\n",
      "Siberia Airlines               1                    0.100000\n",
      "MK Airlines                    1                    0.100000\n",
      "Pinnacle Airlines              1                    0.100000\n",
      "Corporate Airlines             1                    0.100000\n",
      "Lion Air Flight 538            1                    0.100000\n",
      "Kam Air Flight 904             1                    0.100000\n",
      "Air Transat Flight 961         1                    0.100000\n",
      "Regional Airlines              1                    0.100000\n",
      "Kavatshi Airlines              1                    0.100000\n",
      "An Air Kasai Antonov           1                    0.100000\n",
      "Bellview Airlines              1                    0.100000\n",
      "Sosoliso Airlines              1                    0.100000\n",
      "Air Algérie Flight 2208        1                    0.100000\n",
      "Iran Air Tours Flight 945      1                    0.100000\n",
      "Adam Air Flight                1                    0.100000\n",
      "Air West Flight                1                    0.100000\n",
      "Adam Air Flight 172            1                    0.100000\n",
      "Airlines Il-76                 1                    0.100000\n",
      "Paramount Airlines             1                    0.100000\n",
      "Free Airlines                  1                    0.100000\n",
      "TAAG Angola Airlines           1                    0.100000\n",
      "TAM Airlines                   1                    0.100000\n",
      "Air Moorea                     1                    0.100000\n",
      "One-Two-GO Airlines            1                    0.100000\n",
      "Santa Bárbara Airlines         1                    0.100000\n",
      "Blue Wing Airlines             1                    0.100000\n",
      "Yeti Airlines                  1                    0.100000\n",
      "Colgan Air Flight 3407         1                    0.100000\n",
      "Caspian Airlines               1                    0.100000\n",
      "Aria Air Flight                1                    0.100000\n",
      "Divi Divi Air Flight 014       1                    0.100000\n",
      "Taban Air Flight 6437          1                    0.100000\n",
      "Ethiopian Airlines Flight 409  1                    0.100000\n",
      "the International Federation of Air Line Pilots' Associations 1                    0.100000\n",
      "Air India Express              1                    0.100000\n",
      "Agni Air Flight 101            1                    0.100000\n",
      "Henan Airlines                 1                    0.100000\n",
      "JS Air                         1                    0.100000\n",
      "The Zalingei Tarco Airlines    1                    0.100000\n",
      "Dagestan Airlines              1                    0.100000\n",
      "A Tara Air de Havilland Canada 1                    0.100000\n",
      "Iran Air Flight 277            1                    0.100000\n",
      "The 2011 Pointe-Noire Trans Air Congo An-12 1                    0.100000\n",
      "Bagram Air Base                1                    0.100000\n",
      "Angara Airlines Flight 5007    1                    0.100000\n",
      "Caribbean Airlines             1                    0.100000\n",
      "First Air Flight               1                    0.100000\n",
      "Buddha Air Flight 103          1                    0.100000\n",
      "Iran Air Flight 742            1                    0.100000\n",
      "Bhoja Air Flight 213           1                    0.100000\n",
      "the Agni Air Flight CHT        1                    0.100000\n",
      "Allied Air Flight              1                    0.100000\n",
      "Dana Air Flight 992            1                    0.100000\n",
      "Tianjin Airlines               1                    0.100000\n",
      "Air Flight                     1                    0.100000\n",
      "Sita Air Flight 601            1                    0.100000\n",
      "Air Bagan Flight               1                    0.100000\n",
      "Red Wings Airlines             1                    0.100000\n",
      "SCAT Airlines                  1                    0.100000\n",
      "South Airlines                 1                    0.100000\n",
      "Lion Air Flight 904            1                    0.100000\n",
      "Rediske Air                    1                    0.100000\n",
      "Lao Airlines Flight 301        1                    0.100000\n",
      "Tatarstan Airlines             1                    0.100000\n",
      "LAM Mozambique Airlines        1                    0.100000\n",
      "Air Algérie Flight 5017        1                    0.100000\n",
      "Air Algérie                    1                    0.100000\n",
      "Sepahan Airlines               1                    0.100000\n",
      "Trigana Air Service            1                    0.100000\n",
      "Ceiba Intercontinental Airlines 1                    0.100000\n",
      "West Air Sweden Flight 294     1                    0.100000\n",
      "Daallo Airlines                1                    0.100000\n",
      "Tara Air Flight 193            1                    0.100000\n",
      "Viking Air-                    1                    0.100000\n",
      "Batik Air Flight 7703          1                    0.100000\n",
      "ASL Airlines                   1                    0.100000\n",
      "LaMia Airlines                 1                    0.100000\n",
      "South Supreme Airlines         1                    0.100000\n"
     ]
    }
   ],
   "source": [
    "import koko\n",
    "import spacy\n",
    "\n",
    "koko.run('./koko_queries/airlines_v2.koko', doc_parser='spacy')"
   ]
  },
  {
   "cell_type": "markdown",
   "metadata": {},
   "source": [
    "If we only want to see the top few results, we can set up threshold."
   ]
  },
  {
   "cell_type": "code",
   "execution_count": 12,
   "metadata": {},
   "outputs": [
    {
     "name": "stdout",
     "output_type": "stream",
     "text": [
      "Parsed query: extract \"/Users/chen/Research/Code/BigGorilla-assignments/Koko/data/aviation_incidents_cleaned.txt\" Ents from \"x\" if\n",
      "\t(str(x) contains \"Airlines\" { 0.10 }) or\n",
      "\t(str(x) contains \"Air\" { 0.10 })   \n",
      "with threshold 0.40\n",
      "\n",
      "\n",
      "Results:\n",
      "\n",
      "Entity name                    Entity count         Entity score\n",
      "======================================================================\n",
      "United Airlines                27                   1.000000\n",
      "American Airlines              25                   1.000000\n",
      "Northwest Airlines             11                   1.000000\n",
      "Eastern Air Lines              16                   1.000000\n",
      "Air France                     15                   1.000000\n",
      "Japan Airlines                 11                   1.000000\n",
      "China Airlines                 11                   1.000000\n",
      "National Airlines              7                    0.700000\n",
      "Northwest Orient Airlines      7                    0.700000\n",
      "Philippine Airlines            7                    0.700000\n",
      "Indian Airlines                7                    0.700000\n",
      "Merpati Nusantara Airlines     6                    0.600000\n",
      "Continental Airlines           5                    0.500000\n",
      "Pakistan International Airlines 5                    0.500000\n",
      "Air Canada                     5                    0.500000\n",
      "Delta Air Lines                5                    0.500000\n",
      "Southwest Airlines             5                    0.500000\n",
      "United Arab Airlines           4                    0.400000\n",
      "Allegheny Airlines             4                    0.400000\n",
      "Asiana Airlines                4                    0.400000\n"
     ]
    }
   ],
   "source": [
    "koko.run('./koko_queries/airlines_v3.koko', doc_parser='spacy')"
   ]
  },
  {
   "cell_type": "markdown",
   "metadata": {},
   "source": [
    "We can also inspect the original texts for each extracted entity.  \n",
    "To do this, we need to set the parameter \"verbose_info\" to True when invoking Koko."
   ]
  },
  {
   "cell_type": "code",
   "execution_count": 13,
   "metadata": {},
   "outputs": [
    {
     "name": "stdout",
     "output_type": "stream",
     "text": [
      "Parsed query: extract \"/Users/chen/Research/Code/BigGorilla-assignments/Koko/data/aviation_incidents_cleaned.txt\" Ents from \"x\" if\n",
      "\t(str(x) contains \"Airlines\" { 0.01 }) or\n",
      "\t(str(x) contains \"Air\" { 0.01 })   \n",
      "with threshold 0.26\n",
      "\n",
      "\n",
      "Results:\n",
      "\n",
      "Entity name                    Entity count         Entity score\n",
      "======================================================================\n",
      "United Airlines                27                   0.270000\n",
      "\t October 7, 1935, United Airlines Trip 4, a Boeing 247D, crashes near Silver Crown, Wyoming, United States, due to pilot error; all 12 on board die.\n",
      " \n",
      "\n",
      "\t December 27, 1936, United Airlines Trip 34, a Boeing 247, crashes at Rice Canyon (near Newhall, California, United States) due to pilot error, killing all 12 on board.\n",
      " \n",
      "\n",
      "\t May 29, 1947, United Airlines Flight 521, a Douglas DC-4, crashes on takeoff from LaGuardia Airport, New York, United States, due to pilot error; 42 of 48 on board die.\n",
      " \n",
      "\n",
      "\t October 24, 1947, United Airlines Flight 608, a Douglas DC-6, crashes near Bryce Canyon Airport, Utah, United States, when fire caused by a design flaw destroys the aircraft; all 52 on board die in the first hull loss of the DC-6.\n",
      "October 26, 1947, Pan Am Flight 923, a Douglas DC-4, struck Tamgas Mountain on Annette Island, Alaska, killing all 18 passengers and crew on board; the cause is never determined.\n",
      " \n",
      "\n",
      "\t June 17, 1948, United Airlines Flight 624, a Douglas DC-6, crashes near Mount Carmel, Pennsylvania, after errors in attempting to extinguish what was believed to have been an onboard fire; all 43 on board die.\n",
      " \n",
      "\n",
      "\t June 30, 1951, United Airlines Flight 610, a Douglas DC-6, flies into a mountain in Larimer County, Colorado, due to a navigational error; all 45 passengers and five crew members are killed.\n",
      " \n",
      "\n",
      "\t August 24, 1951, United Airlines Flight 615, a Douglas DC-6B, crashes near Decoto (now Union City, California), while on final approach to Oakland, California; all 44 passengers and six crew members die.\n",
      " \n",
      "\n",
      "\t October 6, 1955, United Airlines Flight 409, a Douglas DC-4, crashes into Medicine Bow Peak near Centennial, Wyoming, killing all 66 on board.\n",
      " \n",
      "\n",
      "\t November 1, 1955, United Airlines Flight 629, a Douglas DC-6B, is bombed by Jack Gilbert Graham over Longmont, Colorado; all 44 on board are killed.\n",
      " \n",
      "\n",
      "\t June 30, 1956, The 1956 Grand Canyon mid-air collision between United Airlines Flight 718, a DC-7 and TWA Flight 2, a Lockheed Constellation, over the Grand Canyon, kills all 128 aboard both aircraft; operating under Visual Flight Rules, the planes fail to see each other and collide; the Federal Aviation Administration is created in the aftermath.\n",
      " \n",
      "\n",
      "\t April 21, 1958, United Airlines Flight 736, a Douglas DC-7, collides near Las Vegas, Nevada, with a US Air Force F-100 Super Sabre fighter on a training mission. \n",
      "\n",
      "\t The 1960 New York mid-air collision: United Airlines Flight 826, a Douglas DC-8, and TWA Flight 266, a Lockheed Super Constellation, collide in mid-air over Staten Island in New York; all 128 aboard the two planes and six people on the ground are killed. \n",
      "\n",
      "\t July 11, 1961, United Airlines Flight 859, a Douglas DC-8, crashes on landing at Stapleton International Airport, killing 17 passengers and one person on the ground.\n",
      " \n",
      "\n",
      "\t November 23, 1962, United Airlines Flight 297, a Vickers Viscount 745D, crashes near Ellicott City, Maryland, following a bird strike; all 17 people on board die.\n",
      " \n",
      "\n",
      "\t July 9, 1964, United Airlines Flight 823, a Vickers Viscount, crashes near Parrottsville, Tennessee, after a fire on board; all 39 passengers and crew die.\n",
      " \n",
      "\n",
      "\t August 16, 1965, United Airlines Flight 389, a Boeing 727, crashes into Lake Michigan at night, after the pilots apparently misread their altimeters; all 24 passengers and six crew perish in the first fatal crash of the Boeing 727.\n",
      " \n",
      "\n",
      "\t November 11, 1965, United Airlines Flight 227, a Boeing 727, crashes short of the runway during landing at Salt Lake City International Airport, Utah; 43 of 91 aboard are killed.\n",
      " \n",
      "\n",
      "\t January 18, 1969, United Airlines Flight 266, a Boeing 727, en route from Los Angeles to Milwaukee loses all electrical power and crashes into Santa Monica Bay; six crew and 32 passengers are killed.\n",
      " \n",
      "\n",
      "\t December 8, 1972, United Airlines Flight 553, a Boeing 737, crashes after aborting its landing attempt at Chicago Midway International Airport, killing 43 of 60 people on board and two people on the ground; among those killed was Dorothy Hunt, wife of Watergate conspirator E. Howard Hunt. \n",
      "\n",
      "\t December 17, 1977, United Airlines Flight 2860, a Douglas DC-8, crashes in the Wasatch Range in Utah, killing the three crew on board.\n",
      " \n",
      "\n",
      "\t December 28, 1978, United Airlines Flight 173, a Douglas DC-8, runs out of fuel while circling near Portland, Oregon, United States, as the crew investigates a light indicating a problem with the landing gear; the plane crashes in a suburban area damaging two unoccupied houses, killing 10 and injuring 24 of the 181 on board.\n",
      " \n",
      "\n",
      "\t February 24, 1989, United Airlines Flight 811, a Boeing 747, suffers an explosive decompression shortly after takeoff from Honolulu, Hawaii, United States, caused by a cargo door that burst open during flight. \n",
      "\n",
      "\t July 19, 1989, United Airlines Flight 232, a McDonnell Douglas DC-10, suffers a complete hydraulic system failure over Iowa, United States, after the tail-mounted engine disintegrates. \n",
      "\n",
      "\t March 3, 1991, United Airlines Flight 585, a Boeing 737, crashes while attempting to land at Colorado Springs Airport, Colorado, killing all 25 people on board. \n",
      "\n",
      "\t December 28, 1997, United Airlines Flight 826, a Boeing 747, encounters severe turbulence two hours into the flight; the aircraft safely lands back in Tokyo; all survive the accident, but a passenger dies later; despite having no damage, the aircraft is written off.\n",
      " \n",
      "\n",
      "\t September 11, 2001, United Airlines Flight 175, a Boeing 767-200 with 65 people on board, is hijacked after taking off from Boston and is flown into the south tower of the World Trade Center in New York City; all on board are killed as well as around 900 people on the ground and in the building; the collapse of both towers brings the total death toll from the two crashes to at least 2,763, the worst disaster involving commercial aircraft.\n",
      " \n",
      "\n",
      "\t September 11, 2001, United Airlines Flight 93, a Boeing 757-200 with 44 people on board, is hijacked after taking off from Newark, New Jersey; passengers struggle with the hijackers, and the aircraft crashes in a field near Shanksville, Pennsylvania, killing all on board.\n",
      " \n",
      "\n"
     ]
    }
   ],
   "source": [
    "koko.run('./koko_queries/airlines_v4.koko', doc_parser='spacy', verbose_info=True)"
   ]
  },
  {
   "cell_type": "markdown",
   "metadata": {},
   "source": [
    "**Task 2:** Find the models of aircrafts that have most incidents in the corpus."
   ]
  },
  {
   "cell_type": "markdown",
   "metadata": {},
   "source": [
    "# 3. Data transformation"
   ]
  },
  {
   "cell_type": "markdown",
   "metadata": {},
   "source": [
    "Text data are not structured. To facilitate further data processing, it would be better if we convert text into more structured data, such as Dataframes.  \n",
    "\n",
    "Here we use textual data instead of JSON output of Koko, because Koko's response doesn't include the original texts, but only the sentence ID of the matching sentences."
   ]
  },
  {
   "cell_type": "markdown",
   "metadata": {},
   "source": [
    "# From text to Dataframe"
   ]
  },
  {
   "cell_type": "markdown",
   "metadata": {},
   "source": [
    "We use spaCy and pandas to convert text data into Dataframe."
   ]
  },
  {
   "cell_type": "code",
   "execution_count": 17,
   "metadata": {},
   "outputs": [
    {
     "data": {
      "text/html": [
       "<div>\n",
       "<style scoped>\n",
       "    .dataframe tbody tr th:only-of-type {\n",
       "        vertical-align: middle;\n",
       "    }\n",
       "\n",
       "    .dataframe tbody tr th {\n",
       "        vertical-align: top;\n",
       "    }\n",
       "\n",
       "    .dataframe thead th {\n",
       "        text-align: right;\n",
       "    }\n",
       "</style>\n",
       "<table border=\"1\" class=\"dataframe\">\n",
       "  <thead>\n",
       "    <tr style=\"text-align: right;\">\n",
       "      <th></th>\n",
       "      <th>Airline</th>\n",
       "      <th>Date</th>\n",
       "      <th>Flight</th>\n",
       "      <th>Location</th>\n",
       "    </tr>\n",
       "  </thead>\n",
       "  <tbody>\n",
       "    <tr>\n",
       "      <th>0</th>\n",
       "      <td>the Illinois Trust and Savings Building</td>\n",
       "      <td>July 21, 1919,</td>\n",
       "      <td></td>\n",
       "      <td>ChicagoIllinois\\n</td>\n",
       "    </tr>\n",
       "    <tr>\n",
       "      <th>1</th>\n",
       "      <td>Caproni Ca.48</td>\n",
       "      <td>August 2, 1919,</td>\n",
       "      <td></td>\n",
       "      <td>VeronaItalyVeniceTaliedoMilan\\n</td>\n",
       "    </tr>\n",
       "    <tr>\n",
       "      <th>2</th>\n",
       "      <td>Golders Green</td>\n",
       "      <td>December 14, 1920</td>\n",
       "      <td></td>\n",
       "      <td>London\\n</td>\n",
       "    </tr>\n",
       "    <tr>\n",
       "      <th>3</th>\n",
       "      <td>Thieulloy</td>\n",
       "      <td>April 7, 1922,</td>\n",
       "      <td></td>\n",
       "      <td>France\\n</td>\n",
       "    </tr>\n",
       "    <tr>\n",
       "      <th>4</th>\n",
       "      <td>An Air Union</td>\n",
       "      <td>May 14, 1923</td>\n",
       "      <td></td>\n",
       "      <td>MonsuresSommeFrance\\n</td>\n",
       "    </tr>\n",
       "  </tbody>\n",
       "</table>\n",
       "</div>"
      ],
      "text/plain": [
       "                                   Airline               Date Flight  \\\n",
       "0  the Illinois Trust and Savings Building     July 21, 1919,          \n",
       "1                            Caproni Ca.48    August 2, 1919,          \n",
       "2                            Golders Green  December 14, 1920          \n",
       "3                                Thieulloy     April 7, 1922,          \n",
       "4                             An Air Union       May 14, 1923          \n",
       "\n",
       "                          Location  \n",
       "0                ChicagoIllinois\\n  \n",
       "1  VeronaItalyVeniceTaliedoMilan\\n  \n",
       "2                         London\\n  \n",
       "3                         France\\n  \n",
       "4            MonsuresSommeFrance\\n  "
      ]
     },
     "execution_count": 17,
     "metadata": {},
     "output_type": "execute_result"
    }
   ],
   "source": [
    "import pandas as pd\n",
    "import spacy\n",
    "import re\n",
    "\n",
    "nlp = spacy.load('en')\n",
    "\n",
    "df = pd.DataFrame(columns=['Date', 'Airline', 'Aircraft', 'Location'])\n",
    "# We could add the field of 'Aircraft'. But that could be tricky.\n",
    "\n",
    "incidents = []\n",
    "with open('./data/aviation_incidents_cleaned.txt') as myfile:\n",
    "    for line in myfile:\n",
    "        doc = nlp(line)\n",
    "        icd = {'Date':'', 'Airline':'', 'Flight':'', 'Location':''}\n",
    "        for ent in doc.ents:\n",
    "            if ent.label_ == u'DATE':\n",
    "                # Get the date\n",
    "                icd['Date'] = ent.text\n",
    "            elif ent.label_ == u'ORG':\n",
    "                # Get the organization\n",
    "                icd['Airline'] = ent.text                \n",
    "            elif ent.label_ == u'PRODUCT':\n",
    "                # Get the flight number\n",
    "                if re.search(r'flight', ent.text, re.I):\n",
    "                    icd['Flight'] = ent.text\n",
    "            elif ent.label_ == u'GPE':\n",
    "                # Get the location\n",
    "                icd['Location'] += '' + ent.text\n",
    "        incidents.append(icd)\n",
    "\n",
    "df = pd.DataFrame(incidents)\n",
    "df.head(5)"
   ]
  },
  {
   "cell_type": "code",
   "execution_count": 18,
   "metadata": {},
   "outputs": [
    {
     "data": {
      "text/html": [
       "<div>\n",
       "<style scoped>\n",
       "    .dataframe tbody tr th:only-of-type {\n",
       "        vertical-align: middle;\n",
       "    }\n",
       "\n",
       "    .dataframe tbody tr th {\n",
       "        vertical-align: top;\n",
       "    }\n",
       "\n",
       "    .dataframe thead th {\n",
       "        text-align: right;\n",
       "    }\n",
       "</style>\n",
       "<table border=\"1\" class=\"dataframe\">\n",
       "  <thead>\n",
       "    <tr style=\"text-align: right;\">\n",
       "      <th></th>\n",
       "      <th>Airline</th>\n",
       "      <th>Date</th>\n",
       "      <th>Flight</th>\n",
       "      <th>Location</th>\n",
       "    </tr>\n",
       "  </thead>\n",
       "  <tbody>\n",
       "    <tr>\n",
       "      <th>1127</th>\n",
       "      <td>Boeing</td>\n",
       "      <td>January 16, 2017</td>\n",
       "      <td>Flight 6491</td>\n",
       "      <td>BishkekKyrgyzstan\\n</td>\n",
       "    </tr>\n",
       "    <tr>\n",
       "      <th>1128</th>\n",
       "      <td>South Supreme Airlines</td>\n",
       "      <td>March 20, 2017</td>\n",
       "      <td></td>\n",
       "      <td>South Sudan\\n</td>\n",
       "    </tr>\n",
       "    <tr>\n",
       "      <th>1129</th>\n",
       "      <td>Boeing</td>\n",
       "      <td>March 28, 2017</td>\n",
       "      <td>Flight 112</td>\n",
       "      <td>Jauja\\n</td>\n",
       "    </tr>\n",
       "    <tr>\n",
       "      <th>1130</th>\n",
       "      <td>SFO</td>\n",
       "      <td>July 7, 2017</td>\n",
       "      <td></td>\n",
       "      <td>\\n</td>\n",
       "    </tr>\n",
       "    <tr>\n",
       "      <th>1131</th>\n",
       "      <td>Airbus</td>\n",
       "      <td>September 30, 2017</td>\n",
       "      <td></td>\n",
       "      <td>Canada\\n</td>\n",
       "    </tr>\n",
       "  </tbody>\n",
       "</table>\n",
       "</div>"
      ],
      "text/plain": [
       "                     Airline                Date       Flight  \\\n",
       "1127                  Boeing    January 16, 2017  Flight 6491   \n",
       "1128  South Supreme Airlines      March 20, 2017                \n",
       "1129                  Boeing      March 28, 2017   Flight 112   \n",
       "1130                     SFO        July 7, 2017                \n",
       "1131                  Airbus  September 30, 2017                \n",
       "\n",
       "                 Location  \n",
       "1127  BishkekKyrgyzstan\\n  \n",
       "1128        South Sudan\\n  \n",
       "1129              Jauja\\n  \n",
       "1130                   \\n  \n",
       "1131             Canada\\n  "
      ]
     },
     "execution_count": 18,
     "metadata": {},
     "output_type": "execute_result"
    }
   ],
   "source": [
    "df.tail(5)"
   ]
  },
  {
   "cell_type": "markdown",
   "metadata": {},
   "source": [
    "** Task **: Extract models of aircrafts and add them into the dataframe.\n",
    "You can use the following website for reference of aircraft models: \n",
    "https://en.wikipedia.org/wiki/List_of_aircraft_by_date_and_usage_category"
   ]
  },
  {
   "cell_type": "markdown",
   "metadata": {},
   "source": [
    "# Follow-up processing:\n",
    "\n",
    "- Entity matching: for example, merge different \"Air France\".\n",
    "- Schema matching: merge with other aviation data."
   ]
  },
  {
   "cell_type": "markdown",
   "metadata": {},
   "source": [
    "# Back-up cells"
   ]
  },
  {
   "cell_type": "code",
   "execution_count": 15,
   "metadata": {},
   "outputs": [],
   "source": [
    "from bs4 import BeautifulSoup\n",
    "\n",
    "input_html = \"./data/aircrafts.htm\"\n",
    "with open(input_html, \"r\") as ifile:\n",
    "    soup = BeautifulSoup(ifile, 'lxml')\n",
    "    with open('aircrafts_raw.txt', \"w\") as ofile:\n",
    "        ofile.write(soup.get_text())"
   ]
  }
 ],
 "metadata": {
  "kernelspec": {
   "display_name": "Python_test",
   "language": "python",
   "name": "python3_test"
  },
  "language_info": {
   "codemirror_mode": {
    "name": "ipython",
    "version": 3
   },
   "file_extension": ".py",
   "mimetype": "text/x-python",
   "name": "python",
   "nbconvert_exporter": "python",
   "pygments_lexer": "ipython3",
   "version": "3.6.2"
  }
 },
 "nbformat": 4,
 "nbformat_minor": 2
}
